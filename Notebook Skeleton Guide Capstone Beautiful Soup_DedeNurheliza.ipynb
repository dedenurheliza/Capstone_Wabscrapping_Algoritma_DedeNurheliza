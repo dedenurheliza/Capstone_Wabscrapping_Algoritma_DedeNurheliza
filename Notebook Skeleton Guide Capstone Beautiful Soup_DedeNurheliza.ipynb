{
 "cells": [
  {
   "cell_type": "markdown",
   "metadata": {},
   "source": [
    "# Capstone Webscrapping using BeautifulSoup\n",
    "\n",
    "This notebook contains guidances & tasks on the data processing for the application\n",
    "\n",
    "## Background\n",
    "\n",
    "Data is everywhere, include from web. But data from web must process before it can be visualize and analytic. This is websrapping from web IMDb, that have information (database) related to films, television series, home videos, video games, and streaming content online – including cast, production crew and personal biographies, plot summaries, trivia, ratings, and fan and critical reviews (wikipedia.com). In here, I will take information from IMDb to get information about top 7 movies. So, it can be recommended for someone, who confuse and ask about \"what movies that I can watch?\"\n",
    "\n",
    "## Requesting the Data and Creating a BeautifulSoup\n",
    "\n",
    "Let's begin with requesting the web from the site with `get` method."
   ]
  },
  {
   "cell_type": "code",
   "execution_count": 1,
   "metadata": {},
   "outputs": [],
   "source": [
    "import pandas as pd\n",
    "import numpy as np\n",
    "import matplotlib.pyplot as plt\n",
    "\n",
    "import requests\n",
    "from requests import get\n",
    "from bs4 import BeautifulSoup"
   ]
  },
  {
   "cell_type": "markdown",
   "metadata": {},
   "source": [
    "## Finding the right key to scrap the data & Extracting the right information"
   ]
  },
  {
   "cell_type": "markdown",
   "metadata": {},
   "source": [
    "As we can see we get a very unstructured and complex html, which actually contains the codes needed to show the webpages on your web browser. But we as human still confused what and where we can use that piece of code, so here where we use the beautifulsoup. Beautiful soup class will result a beautifulsoup object. Beautiful Soup transforms a complex HTML document into a complex tree of Python objects. \n",
    "\n",
    "Let's make Beautiful soup object and feel free to explore the object here."
   ]
  },
  {
   "cell_type": "code",
   "execution_count": 31,
   "metadata": {},
   "outputs": [],
   "source": [
    "# Creating the lists we want to write into\n",
    "# define for array \n",
    "title = []\n",
    "rate = []\n",
    "metascore = []\n",
    "vot= []"
   ]
  },
  {
   "cell_type": "code",
   "execution_count": 32,
   "metadata": {},
   "outputs": [
    {
     "data": {
      "text/plain": [
       "array([  1,  51, 101, 151, 201])"
      ]
     },
     "execution_count": 32,
     "metadata": {},
     "output_type": "execute_result"
    }
   ],
   "source": [
    "#array for looping data \n",
    "#total movie in one layer is 50 movies, \n",
    "#for the next page, it must loop (from 1, 51,101, etc)\n",
    "numb = np.arange(1, 202, 50)\n",
    "numb"
   ]
  },
  {
   "cell_type": "code",
   "execution_count": 33,
   "metadata": {},
   "outputs": [],
   "source": [
    "#looping from page 1,51,101,151 and 201\n",
    "#get data title, rate, metascore and vot from IMDb \n",
    "\n",
    "for num in numb:\n",
    "    #get data from web\n",
    "    num = requests.get('https://www.imdb.com/search/title/?release_date=2021-01-01,2021-12-31&start=' + str(num) + '&ref_=adv_nxt')\n",
    "    soup = BeautifulSoup(num.text, 'html.parser')\n",
    "    \n",
    "    # get information from all part of movie (include title, vote, etc)\n",
    "    # in div class lister-item mode-advance\n",
    "    movie_div = soup.find_all('div', class_='lister-item mode-advanced')\n",
    "    \n",
    "    for i in movie_div:\n",
    "        # Scraping title of movie\n",
    "        name = i.h3.a.text #get data from h3\n",
    "        title.append(name) #append data to array title\n",
    "\n",
    "        # Scraping the rate of movie\n",
    "        imdb=i.find('div', class_='inline-block ratings-imdb-rating') #get data from div\n",
    "        if imdb is not None:\n",
    "            imdb_rating=float(imdb.text) #get data text and change to float type data\n",
    "        rate.append(imdb_rating) #append data to array rate\n",
    "        \n",
    "        # Scraping the metascore\n",
    "        #get data from span\n",
    "        #metascore for several movie is empty, so it must define, if empty, just write (-)\n",
    "        m_score = float(i.find('span', class_='metascore').text) if i.find('span', class_='metascore') else '-' \n",
    "        metascore.append(m_score) #append data to array metascore\n",
    "        \n",
    "        # Scraping votes \n",
    "        vote=i.find('p', class_='sort-num_votes-visible') #get data from p\n",
    "        if vote is not None:\n",
    "            votes=vote.text.split()[1]\n",
    "        vot.append(votes) #append data to array vot"
   ]
  },
  {
   "cell_type": "code",
   "execution_count": 34,
   "metadata": {},
   "outputs": [
    {
     "name": "stdout",
     "output_type": "stream",
     "text": [
      "250 250 250 250\n"
     ]
    }
   ],
   "source": [
    "print(len(title),len(rate),len(metascore),len(vot))"
   ]
  },
  {
   "cell_type": "markdown",
   "metadata": {},
   "source": [
    "## Creating data frame & Data wrangling"
   ]
  },
  {
   "cell_type": "markdown",
   "metadata": {},
   "source": [
    "Put the array into dataframe"
   ]
  },
  {
   "cell_type": "code",
   "execution_count": 48,
   "metadata": {},
   "outputs": [
    {
     "data": {
      "text/html": [
       "<div>\n",
       "<style scoped>\n",
       "    .dataframe tbody tr th:only-of-type {\n",
       "        vertical-align: middle;\n",
       "    }\n",
       "\n",
       "    .dataframe tbody tr th {\n",
       "        vertical-align: top;\n",
       "    }\n",
       "\n",
       "    .dataframe thead th {\n",
       "        text-align: right;\n",
       "    }\n",
       "</style>\n",
       "<table border=\"1\" class=\"dataframe\">\n",
       "  <thead>\n",
       "    <tr style=\"text-align: right;\">\n",
       "      <th></th>\n",
       "      <th>Movie Title</th>\n",
       "      <th>IMDb_rating</th>\n",
       "      <th>Metascore</th>\n",
       "      <th>Vote</th>\n",
       "    </tr>\n",
       "  </thead>\n",
       "  <tbody>\n",
       "    <tr>\n",
       "      <th>0</th>\n",
       "      <td>Don't Look Up</td>\n",
       "      <td>7.3</td>\n",
       "      <td>49.0</td>\n",
       "      <td>312,387</td>\n",
       "    </tr>\n",
       "    <tr>\n",
       "      <th>1</th>\n",
       "      <td>Spider-Man: No Way Home</td>\n",
       "      <td>8.8</td>\n",
       "      <td>71.0</td>\n",
       "      <td>367,117</td>\n",
       "    </tr>\n",
       "    <tr>\n",
       "      <th>2</th>\n",
       "      <td>The Matrix Resurrections</td>\n",
       "      <td>5.7</td>\n",
       "      <td>63.0</td>\n",
       "      <td>150,019</td>\n",
       "    </tr>\n",
       "    <tr>\n",
       "      <th>3</th>\n",
       "      <td>Encanto</td>\n",
       "      <td>7.3</td>\n",
       "      <td>76.0</td>\n",
       "      <td>76,568</td>\n",
       "    </tr>\n",
       "    <tr>\n",
       "      <th>4</th>\n",
       "      <td>The Book of Boba Fett</td>\n",
       "      <td>8.1</td>\n",
       "      <td>-</td>\n",
       "      <td>16,902</td>\n",
       "    </tr>\n",
       "    <tr>\n",
       "      <th>5</th>\n",
       "      <td>1883</td>\n",
       "      <td>9.1</td>\n",
       "      <td>-</td>\n",
       "      <td>13,284</td>\n",
       "    </tr>\n",
       "    <tr>\n",
       "      <th>6</th>\n",
       "      <td>The Wheel of Time</td>\n",
       "      <td>7.2</td>\n",
       "      <td>-</td>\n",
       "      <td>73,390</td>\n",
       "    </tr>\n",
       "    <tr>\n",
       "      <th>7</th>\n",
       "      <td>Hawkeye</td>\n",
       "      <td>7.7</td>\n",
       "      <td>-</td>\n",
       "      <td>101,530</td>\n",
       "    </tr>\n",
       "    <tr>\n",
       "      <th>8</th>\n",
       "      <td>Dexter: New Blood</td>\n",
       "      <td>8.8</td>\n",
       "      <td>-</td>\n",
       "      <td>43,630</td>\n",
       "    </tr>\n",
       "    <tr>\n",
       "      <th>9</th>\n",
       "      <td>The King's Man</td>\n",
       "      <td>6.8</td>\n",
       "      <td>44.0</td>\n",
       "      <td>15,404</td>\n",
       "    </tr>\n",
       "    <tr>\n",
       "      <th>10</th>\n",
       "      <td>Licorice Pizza</td>\n",
       "      <td>8.0</td>\n",
       "      <td>90.0</td>\n",
       "      <td>11,676</td>\n",
       "    </tr>\n",
       "    <tr>\n",
       "      <th>11</th>\n",
       "      <td>The Power of the Dog</td>\n",
       "      <td>7.0</td>\n",
       "      <td>89.0</td>\n",
       "      <td>67,954</td>\n",
       "    </tr>\n",
       "  </tbody>\n",
       "</table>\n",
       "</div>"
      ],
      "text/plain": [
       "                 Movie Title  IMDb_rating Metascore     Vote\n",
       "0              Don't Look Up          7.3      49.0  312,387\n",
       "1    Spider-Man: No Way Home          8.8      71.0  367,117\n",
       "2   The Matrix Resurrections          5.7      63.0  150,019\n",
       "3                    Encanto          7.3      76.0   76,568\n",
       "4      The Book of Boba Fett          8.1         -   16,902\n",
       "5                       1883          9.1         -   13,284\n",
       "6          The Wheel of Time          7.2         -   73,390\n",
       "7                    Hawkeye          7.7         -  101,530\n",
       "8          Dexter: New Blood          8.8         -   43,630\n",
       "9             The King's Man          6.8      44.0   15,404\n",
       "10            Licorice Pizza          8.0      90.0   11,676\n",
       "11      The Power of the Dog          7.0      89.0   67,954"
      ]
     },
     "execution_count": 48,
     "metadata": {},
     "output_type": "execute_result"
    }
   ],
   "source": [
    "#save to DataFrame\n",
    "movie= pd.DataFrame({'Movie Title':title, \n",
    "                       'IMDb_rating':rate, \n",
    "                       'Metascore':metascore,\n",
    "                       'Vote':vot})\n",
    "\n",
    "movie.head(12)"
   ]
  },
  {
   "cell_type": "markdown",
   "metadata": {},
   "source": [
    "Do the data cleaning here. First, to simplify process data, I will change type data. Then I will make array to get 7 top movies based on web (automation), rate, metascore and vote. "
   ]
  },
  {
   "cell_type": "code",
   "execution_count": 49,
   "metadata": {},
   "outputs": [
    {
     "data": {
      "text/plain": [
       "Movie Title     object\n",
       "IMDb_rating    float64\n",
       "Metascore       object\n",
       "Vote            object\n",
       "dtype: object"
      ]
     },
     "execution_count": 49,
     "metadata": {},
     "output_type": "execute_result"
    }
   ],
   "source": [
    "movie.dtypes"
   ]
  },
  {
   "cell_type": "code",
   "execution_count": 50,
   "metadata": {},
   "outputs": [
    {
     "data": {
      "text/plain": [
       "float"
      ]
     },
     "execution_count": 50,
     "metadata": {},
     "output_type": "execute_result"
    }
   ],
   "source": [
    "#several datatype of metascore is float, and other is str\n",
    "type(movie['Metascore'][1])"
   ]
  },
  {
   "cell_type": "code",
   "execution_count": 51,
   "metadata": {},
   "outputs": [],
   "source": [
    "movie['Metascore'] = movie['Metascore'].replace('-', np.nan)\n",
    "movie['Metascore'] = movie['Metascore'].astype(float)"
   ]
  },
  {
   "cell_type": "code",
   "execution_count": 52,
   "metadata": {},
   "outputs": [],
   "source": [
    "#change dtype of Vote\n",
    "movie['Vote'] = movie['Vote'].str.replace(',', '') #change , to .\n",
    "movie['Vote'] = movie['Vote'].astype(float) #change to float"
   ]
  },
  {
   "cell_type": "code",
   "execution_count": 53,
   "metadata": {},
   "outputs": [
    {
     "data": {
      "text/plain": [
       "Movie Title     object\n",
       "IMDb_rating    float64\n",
       "Metascore      float64\n",
       "Vote           float64\n",
       "dtype: object"
      ]
     },
     "execution_count": 53,
     "metadata": {},
     "output_type": "execute_result"
    }
   ],
   "source": [
    "movie.dtypes"
   ]
  },
  {
   "cell_type": "code",
   "execution_count": 54,
   "metadata": {},
   "outputs": [],
   "source": [
    "#default 7 top movie\n",
    "basetop=movie"
   ]
  },
  {
   "cell_type": "code",
   "execution_count": 42,
   "metadata": {},
   "outputs": [
    {
     "data": {
      "text/html": [
       "<div>\n",
       "<style scoped>\n",
       "    .dataframe tbody tr th:only-of-type {\n",
       "        vertical-align: middle;\n",
       "    }\n",
       "\n",
       "    .dataframe tbody tr th {\n",
       "        vertical-align: top;\n",
       "    }\n",
       "\n",
       "    .dataframe thead th {\n",
       "        text-align: right;\n",
       "    }\n",
       "</style>\n",
       "<table border=\"1\" class=\"dataframe\">\n",
       "  <thead>\n",
       "    <tr style=\"text-align: right;\">\n",
       "      <th></th>\n",
       "      <th>Movie Title</th>\n",
       "      <th>Metascore</th>\n",
       "      <th>IMDb_rating</th>\n",
       "    </tr>\n",
       "  </thead>\n",
       "  <tbody>\n",
       "    <tr>\n",
       "      <th>0</th>\n",
       "      <td>Spider-Man: No Way Home</td>\n",
       "      <td>71.0</td>\n",
       "      <td>8.8</td>\n",
       "    </tr>\n",
       "    <tr>\n",
       "      <th>1</th>\n",
       "      <td>CODA</td>\n",
       "      <td>75.0</td>\n",
       "      <td>8.1</td>\n",
       "    </tr>\n",
       "    <tr>\n",
       "      <th>2</th>\n",
       "      <td>Zack Snyder's Justice League</td>\n",
       "      <td>54.0</td>\n",
       "      <td>8.1</td>\n",
       "    </tr>\n",
       "    <tr>\n",
       "      <th>3</th>\n",
       "      <td>Verdens verste menneske</td>\n",
       "      <td>88.0</td>\n",
       "      <td>8.1</td>\n",
       "    </tr>\n",
       "    <tr>\n",
       "      <th>4</th>\n",
       "      <td>Dune: Part One</td>\n",
       "      <td>74.0</td>\n",
       "      <td>8.1</td>\n",
       "    </tr>\n",
       "    <tr>\n",
       "      <th>5</th>\n",
       "      <td>Licorice Pizza</td>\n",
       "      <td>90.0</td>\n",
       "      <td>8.0</td>\n",
       "    </tr>\n",
       "    <tr>\n",
       "      <th>6</th>\n",
       "      <td>The Alpinist</td>\n",
       "      <td>67.0</td>\n",
       "      <td>8.0</td>\n",
       "    </tr>\n",
       "  </tbody>\n",
       "</table>\n",
       "</div>"
      ],
      "text/plain": [
       "                    Movie Title  Metascore  IMDb_rating\n",
       "0       Spider-Man: No Way Home       71.0          8.8\n",
       "1                          CODA       75.0          8.1\n",
       "2  Zack Snyder's Justice League       54.0          8.1\n",
       "3       Verdens verste menneske       88.0          8.1\n",
       "4                Dune: Part One       74.0          8.1\n",
       "5                Licorice Pizza       90.0          8.0\n",
       "6                  The Alpinist       67.0          8.0"
      ]
     },
     "execution_count": 42,
     "metadata": {},
     "output_type": "execute_result"
    }
   ],
   "source": [
    "#get data from not nan metascore and high rate\n",
    "basetop2 = movie.groupby('Movie Title').agg({\n",
    "    'Metascore': 'mean',\n",
    "    'IMDb_rating': 'mean'\n",
    "}).sort_values(by='Metascore',ascending=False).dropna().sort_values(by='IMDb_rating',ascending=False).reset_index()\n",
    "basetop2.head(7)"
   ]
  },
  {
   "cell_type": "markdown",
   "metadata": {},
   "source": [
    "The more people who vote, the more valid the results. Then data that has more than 150.000 votes will be taken"
   ]
  },
  {
   "cell_type": "code",
   "execution_count": 43,
   "metadata": {},
   "outputs": [],
   "source": [
    "d=movie['Vote']>150000\n",
    "movie['Movie Title']=movie['Movie Title'][d]\n",
    "movie.sort_values('Movie Title',inplace=True)"
   ]
  },
  {
   "cell_type": "code",
   "execution_count": 44,
   "metadata": {},
   "outputs": [
    {
     "data": {
      "text/html": [
       "<div>\n",
       "<style scoped>\n",
       "    .dataframe tbody tr th:only-of-type {\n",
       "        vertical-align: middle;\n",
       "    }\n",
       "\n",
       "    .dataframe tbody tr th {\n",
       "        vertical-align: top;\n",
       "    }\n",
       "\n",
       "    .dataframe thead th {\n",
       "        text-align: right;\n",
       "    }\n",
       "</style>\n",
       "<table border=\"1\" class=\"dataframe\">\n",
       "  <thead>\n",
       "    <tr style=\"text-align: right;\">\n",
       "      <th></th>\n",
       "      <th>Movie Title</th>\n",
       "      <th>IMDb_rating</th>\n",
       "      <th>Metascore</th>\n",
       "      <th>Vote</th>\n",
       "    </tr>\n",
       "  </thead>\n",
       "  <tbody>\n",
       "    <tr>\n",
       "      <th>143</th>\n",
       "      <td>Army of the Dead</td>\n",
       "      <td>5.7</td>\n",
       "      <td>57.0</td>\n",
       "      <td>159391.0</td>\n",
       "    </tr>\n",
       "    <tr>\n",
       "      <th>53</th>\n",
       "      <td>Black Widow</td>\n",
       "      <td>6.7</td>\n",
       "      <td>67.0</td>\n",
       "      <td>317153.0</td>\n",
       "    </tr>\n",
       "    <tr>\n",
       "      <th>77</th>\n",
       "      <td>Cruella</td>\n",
       "      <td>7.4</td>\n",
       "      <td>59.0</td>\n",
       "      <td>203875.0</td>\n",
       "    </tr>\n",
       "    <tr>\n",
       "      <th>0</th>\n",
       "      <td>Don't Look Up</td>\n",
       "      <td>7.3</td>\n",
       "      <td>49.0</td>\n",
       "      <td>312387.0</td>\n",
       "    </tr>\n",
       "    <tr>\n",
       "      <th>18</th>\n",
       "      <td>Dune: Part One</td>\n",
       "      <td>8.1</td>\n",
       "      <td>74.0</td>\n",
       "      <td>435154.0</td>\n",
       "    </tr>\n",
       "    <tr>\n",
       "      <th>46</th>\n",
       "      <td>Free Guy</td>\n",
       "      <td>7.2</td>\n",
       "      <td>62.0</td>\n",
       "      <td>254577.0</td>\n",
       "    </tr>\n",
       "    <tr>\n",
       "      <th>126</th>\n",
       "      <td>Godzilla vs. Kong</td>\n",
       "      <td>6.4</td>\n",
       "      <td>59.0</td>\n",
       "      <td>188427.0</td>\n",
       "    </tr>\n",
       "    <tr>\n",
       "      <th>114</th>\n",
       "      <td>Jai Bhim</td>\n",
       "      <td>9.4</td>\n",
       "      <td>NaN</td>\n",
       "      <td>165927.0</td>\n",
       "    </tr>\n",
       "    <tr>\n",
       "      <th>75</th>\n",
       "      <td>Jungle Cruise</td>\n",
       "      <td>6.6</td>\n",
       "      <td>50.0</td>\n",
       "      <td>161407.0</td>\n",
       "    </tr>\n",
       "    <tr>\n",
       "      <th>65</th>\n",
       "      <td>Loki</td>\n",
       "      <td>8.3</td>\n",
       "      <td>NaN</td>\n",
       "      <td>251496.0</td>\n",
       "    </tr>\n",
       "  </tbody>\n",
       "</table>\n",
       "</div>"
      ],
      "text/plain": [
       "           Movie Title  IMDb_rating  Metascore      Vote\n",
       "143   Army of the Dead          5.7       57.0  159391.0\n",
       "53         Black Widow          6.7       67.0  317153.0\n",
       "77             Cruella          7.4       59.0  203875.0\n",
       "0        Don't Look Up          7.3       49.0  312387.0\n",
       "18      Dune: Part One          8.1       74.0  435154.0\n",
       "46            Free Guy          7.2       62.0  254577.0\n",
       "126  Godzilla vs. Kong          6.4       59.0  188427.0\n",
       "114           Jai Bhim          9.4        NaN  165927.0\n",
       "75       Jungle Cruise          6.6       50.0  161407.0\n",
       "65                Loki          8.3        NaN  251496.0"
      ]
     },
     "execution_count": 44,
     "metadata": {},
     "output_type": "execute_result"
    }
   ],
   "source": [
    "movie.head(10)"
   ]
  },
  {
   "cell_type": "code",
   "execution_count": 45,
   "metadata": {},
   "outputs": [
    {
     "data": {
      "text/html": [
       "<div>\n",
       "<style scoped>\n",
       "    .dataframe tbody tr th:only-of-type {\n",
       "        vertical-align: middle;\n",
       "    }\n",
       "\n",
       "    .dataframe tbody tr th {\n",
       "        vertical-align: top;\n",
       "    }\n",
       "\n",
       "    .dataframe thead th {\n",
       "        text-align: right;\n",
       "    }\n",
       "</style>\n",
       "<table border=\"1\" class=\"dataframe\">\n",
       "  <thead>\n",
       "    <tr style=\"text-align: right;\">\n",
       "      <th></th>\n",
       "      <th>Movie Title</th>\n",
       "      <th>Metascore</th>\n",
       "      <th>IMDb_rating</th>\n",
       "    </tr>\n",
       "  </thead>\n",
       "  <tbody>\n",
       "    <tr>\n",
       "      <th>0</th>\n",
       "      <td>Spider-Man: No Way Home</td>\n",
       "      <td>71.0</td>\n",
       "      <td>8.8</td>\n",
       "    </tr>\n",
       "    <tr>\n",
       "      <th>1</th>\n",
       "      <td>Dune: Part One</td>\n",
       "      <td>74.0</td>\n",
       "      <td>8.1</td>\n",
       "    </tr>\n",
       "    <tr>\n",
       "      <th>2</th>\n",
       "      <td>Zack Snyder's Justice League</td>\n",
       "      <td>54.0</td>\n",
       "      <td>8.1</td>\n",
       "    </tr>\n",
       "    <tr>\n",
       "      <th>3</th>\n",
       "      <td>Shang-Chi and the Legend of the Ten Rings</td>\n",
       "      <td>71.0</td>\n",
       "      <td>7.5</td>\n",
       "    </tr>\n",
       "    <tr>\n",
       "      <th>4</th>\n",
       "      <td>Nobody</td>\n",
       "      <td>64.0</td>\n",
       "      <td>7.4</td>\n",
       "    </tr>\n",
       "    <tr>\n",
       "      <th>5</th>\n",
       "      <td>Cruella</td>\n",
       "      <td>59.0</td>\n",
       "      <td>7.4</td>\n",
       "    </tr>\n",
       "    <tr>\n",
       "      <th>6</th>\n",
       "      <td>No Time to Die</td>\n",
       "      <td>68.0</td>\n",
       "      <td>7.4</td>\n",
       "    </tr>\n",
       "  </tbody>\n",
       "</table>\n",
       "</div>"
      ],
      "text/plain": [
       "                                 Movie Title  Metascore  IMDb_rating\n",
       "0                    Spider-Man: No Way Home       71.0          8.8\n",
       "1                             Dune: Part One       74.0          8.1\n",
       "2               Zack Snyder's Justice League       54.0          8.1\n",
       "3  Shang-Chi and the Legend of the Ten Rings       71.0          7.5\n",
       "4                                     Nobody       64.0          7.4\n",
       "5                                    Cruella       59.0          7.4\n",
       "6                             No Time to Die       68.0          7.4"
      ]
     },
     "execution_count": 45,
     "metadata": {},
     "output_type": "execute_result"
    }
   ],
   "source": [
    "#get data from not nan metascore and high rate (vote>150.000)\n",
    "basetop3 = movie.groupby('Movie Title').agg({\n",
    "    'Metascore': 'mean',\n",
    "    'IMDb_rating': 'mean'\n",
    "}).sort_values(by='Metascore',ascending=False).dropna().sort_values(by='IMDb_rating',ascending=False).reset_index()\n",
    "basetop3.head(7)"
   ]
  },
  {
   "cell_type": "markdown",
   "metadata": {},
   "source": [
    "Data visualisation (please change this markdown with your explanation of what you do for data wrangling)"
   ]
  },
  {
   "cell_type": "code",
   "execution_count": 66,
   "metadata": {
    "ExecuteTime": {
     "end_time": "2020-01-13T05:12:59.165559Z",
     "start_time": "2020-01-13T05:12:58.910012Z"
    }
   },
   "outputs": [
    {
     "data": {
      "image/png": "[encoded data removed]",
      "text/plain": [
       "<Figure size 576x432 with 1 Axes>"
      ]
     },
     "metadata": {
      "needs_background": "light"
     },
     "output_type": "display_data"
    }
   ],
   "source": [
    "fig = plt.figure(figsize=(8,6))\n",
    "#ax = fig.add_axes([0,0,1,1])\n",
    "title_ = basetop['Movie Title'][0:6]\n",
    "rate_ = basetop['IMDb_rating'][0:6]\n",
    "plt.barh(title_,rate_,color='orange')\n",
    "plt.xticks(fontsize=14)\n",
    "plt.yticks(fontsize=13)\n",
    "plt.xlabel(r'Rating',fontsize=16)\n",
    "plt.title('Top 7 Movies from Web \\n Default \\n',fontsize=18)\n",
    "plt.show()"
   ]
  },
  {
   "cell_type": "code",
   "execution_count": 71,
   "metadata": {},
   "outputs": [
    {
     "data": {
      "image/png": "[encoded data removed]",
      "text/plain": [
       "<Figure size 576x432 with 1 Axes>"
      ]
     },
     "metadata": {
      "needs_background": "light"
     },
     "output_type": "display_data"
    }
   ],
   "source": [
    "fig = plt.figure(figsize=(8,6))\n",
    "#ax = fig.add_axes([0,0,1,1])\n",
    "title_ = basetop2['Movie Title'][0:6]\n",
    "rate_ = basetop2['IMDb_rating'][0:6]\n",
    "plt.barh(title_,rate_,color='g')\n",
    "plt.xticks(fontsize=14)\n",
    "plt.yticks(fontsize=13)\n",
    "plt.xlabel(r'Rating',fontsize=16)\n",
    "plt.title('Top 7 Movies from Web \\n sort by Rate \\n',fontsize=18)\n",
    "plt.show()"
   ]
  },
  {
   "cell_type": "code",
   "execution_count": 72,
   "metadata": {},
   "outputs": [
    {
     "data": {
      "image/png": "[encoded data removed]",
      "text/plain": [
       "<Figure size 576x432 with 1 Axes>"
      ]
     },
     "metadata": {
      "needs_background": "light"
     },
     "output_type": "display_data"
    }
   ],
   "source": [
    "fig = plt.figure(figsize=(8,6))\n",
    "#ax = fig.add_axes([0,0,1,1])\n",
    "title_ = basetop3['Movie Title'][0:6]\n",
    "rate_ = basetop3['IMDb_rating'][0:6]\n",
    "plt.barh(title_,rate_,color='brown')\n",
    "plt.xticks(fontsize=14)\n",
    "plt.yticks(fontsize=13)\n",
    "plt.xlabel(r'Rating',fontsize=16)\n",
    "plt.title('Top 7 Movies from Web \\n sort by amount of Voter (>150.000) and Rate \\n',fontsize=18)\n",
    "plt.show()"
   ]
  },
  {
   "cell_type": "markdown",
   "metadata": {},
   "source": [
    "### Implementing your webscrapping to the flask dashboard\n",
    "\n",
    "- Copy paste all of your web scrapping process to the desired position on the `app.py`\n",
    "- Changing the title of the dasboard at `index.html`"
   ]
  },
  {
   "cell_type": "markdown",
   "metadata": {},
   "source": [
    "## Finishing This Notebook with Your Analysis and Conclusion\n",
    "\n",
    "First you can do start with making the data visualisation. "
   ]
  },
  {
   "cell_type": "markdown",
   "metadata": {
    "ExecuteTime": {
     "end_time": "2020-01-13T05:20:56.208237Z",
     "start_time": "2020-01-13T05:20:56.076043Z"
    }
   },
   "source": [
    "From 3 pictures above, we know top 7 movies from IMDb. First picture, it is default suggest popular movies from IMDb, I think it is based on several aspect. Then, second picture, 7 top movies based on rate. And the last picture, it is based on amount of vote (>150.000) and rate. \n",
    "\n",
    "So, if someone wants to see a movie, the top 7 from 3 picture above can be a reference. And from those picture, I can say that watching **Spiderman:No Way Home** will be a best chance for now."
   ]
  },
  {
   "cell_type": "markdown",
   "metadata": {},
   "source": [
    "### Extra Challange\n",
    "\n",
    "This will be not included to the scoring. \n",
    "\n",
    "- You can create additional analysis from the data.\n",
    "- Implement it to the dashboard with at `app.py` dan `index.html`."
   ]
  }
 ],
 "metadata": {
  "kernelspec": {
   "display_name": "qoppa-da",
   "language": "python",
   "name": "qoppa-da"
  },
  "language_info": {
   "codemirror_mode": {
    "name": "ipython",
    "version": 3
   },
   "file_extension": ".py",
   "mimetype": "text/x-python",
   "name": "python",
   "nbconvert_exporter": "python",
   "pygments_lexer": "ipython3",
   "version": "3.8.8"
  }
 },
 "nbformat": 4,
 "nbformat_minor": 2
}
